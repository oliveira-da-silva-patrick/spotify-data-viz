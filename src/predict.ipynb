import pandas as pd

# load the training dataset
data = pd.read_csv('wine.csv')
data.sample(10)